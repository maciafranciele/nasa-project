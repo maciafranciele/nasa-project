{
 "cells": [
  {
   "cell_type": "code",
   "execution_count": 11,
   "metadata": {},
   "outputs": [],
   "source": [
    "from pyspark.context import SparkContext\n",
    "from pyspark.sql.context import SQLContext\n",
    "from pyspark.sql import functions as F\n",
    "from pyspark.sql.functions import regexp_extract\n",
    "\n",
    "import glob\n",
    "import re"
   ]
  },
  {
   "cell_type": "code",
   "execution_count": null,
   "metadata": {},
   "outputs": [],
   "source": [
    "raw_data_files = glob.glob('/home/cloudera/Documents/nasa-project/data/*.gz')\n",
    "raw_data_files"
   ]
  },
  {
   "cell_type": "code",
   "execution_count": 12,
   "metadata": {},
   "outputs": [
    {
     "name": "stdout",
     "output_type": "stream",
     "text": [
      "root\n",
      " |-- value: string (nullable = true)\n",
      "\n"
     ]
    }
   ],
   "source": [
    "base_df = sqlContext.read.text('file:///home/cloudera/Documents/nasa-project/data/*.gz')\n",
    "base_df.printSchema()"
   ]
  },
  {
   "cell_type": "code",
   "execution_count": null,
   "metadata": {},
   "outputs": [],
   "source": [
    "type(base_df)"
   ]
  },
  {
   "cell_type": "code",
   "execution_count": null,
   "metadata": {},
   "outputs": [],
   "source": [
    "print((base_df.count(), len(base_df.columns)))\n",
    "base_length = base_df.count()\n",
    "\n",
    "base_length"
   ]
  },
  {
   "cell_type": "code",
   "execution_count": 40,
   "metadata": {},
   "outputs": [
    {
     "data": {
      "text/plain": [
       "list"
      ]
     },
     "execution_count": 40,
     "metadata": {},
     "output_type": "execute_result"
    }
   ],
   "source": [
    "sample_logs = [item['value'] for item in base_df.take(15)]\n",
    "type(sample_logs)"
   ]
  },
  {
   "cell_type": "code",
   "execution_count": 41,
   "metadata": {},
   "outputs": [
    {
     "data": {
      "text/plain": [
       "list"
      ]
     },
     "execution_count": 41,
     "metadata": {},
     "output_type": "execute_result"
    }
   ],
   "source": [
    "host_pattern = r'(^\\S+\\.[\\S+\\.]+\\S+)\\s'\n",
    "hosts = [re.search(host_pattern, item).group(1)\n",
    "           if re.search(host_pattern, item)\n",
    "           else 'no match'\n",
    "           for item in sample_logs]\n",
    "type(hosts)"
   ]
  },
  {
   "cell_type": "code",
   "execution_count": 15,
   "metadata": {},
   "outputs": [
    {
     "data": {
      "text/plain": [
       "[u'01/Aug/1995:00:00:01 -0400',\n",
       " u'01/Aug/1995:00:00:07 -0400',\n",
       " u'01/Aug/1995:00:00:08 -0400',\n",
       " u'01/Aug/1995:00:00:08 -0400',\n",
       " u'01/Aug/1995:00:00:08 -0400',\n",
       " u'01/Aug/1995:00:00:09 -0400',\n",
       " u'01/Aug/1995:00:00:10 -0400',\n",
       " u'01/Aug/1995:00:00:10 -0400',\n",
       " u'01/Aug/1995:00:00:10 -0400',\n",
       " u'01/Aug/1995:00:00:11 -0400',\n",
       " u'01/Aug/1995:00:00:12 -0400',\n",
       " u'01/Aug/1995:00:00:12 -0400',\n",
       " u'01/Aug/1995:00:00:13 -0400',\n",
       " u'01/Aug/1995:00:00:14 -0400',\n",
       " u'01/Aug/1995:00:00:16 -0400']"
      ]
     },
     "execution_count": 15,
     "metadata": {},
     "output_type": "execute_result"
    }
   ],
   "source": [
    "ts_pattern = r'\\[(\\d{2}/\\w{3}/\\d{4}:\\d{2}:\\d{2}:\\d{2} -\\d{4})]'\n",
    "timestamps = [re.search(ts_pattern, item).group(1) for item in sample_logs]\n",
    "timestamps"
   ]
  },
  {
   "cell_type": "code",
   "execution_count": 16,
   "metadata": {},
   "outputs": [
    {
     "data": {
      "text/plain": [
       "[(u'GET', u'/shuttle/missions/sts-68/news/sts-68-mcc-05.txt', u'HTTP/1.0'),\n",
       " (u'GET', u'/', u'HTTP/1.0'),\n",
       " (u'GET', u'/images/ksclogo-medium.gif', u'HTTP/1.0'),\n",
       " (u'GET', u'/images/MOSAIC-logosmall.gif', u'HTTP/1.0'),\n",
       " (u'GET', u'/images/USA-logosmall.gif', u'HTTP/1.0'),\n",
       " (u'GET', u'/images/launch-logo.gif', u'HTTP/1.0'),\n",
       " (u'GET', u'/images/WORLD-logosmall.gif', u'HTTP/1.0'),\n",
       " (u'GET', u'/history/skylab/skylab.html', u'HTTP/1.0'),\n",
       " (u'GET', u'/images/launchmedium.gif', u'HTTP/1.0'),\n",
       " (u'GET', u'/history/skylab/skylab-small.gif', u'HTTP/1.0'),\n",
       " (u'GET', u'/images/ksclogosmall.gif', u'HTTP/1.0'),\n",
       " (u'GET', u'/history/apollo/images/apollo-logo1.gif', u'HTTP/1.0'),\n",
       " (u'GET', u'/history/apollo/images/apollo-logo.gif', u'HTTP/1.0'),\n",
       " (u'GET', u'/images/NASA-logosmall.gif', u'HTTP/1.0'),\n",
       " (u'GET', u'/shuttle/missions/sts-69/mission-sts-69.html', u'HTTP/1.0')]"
      ]
     },
     "execution_count": 16,
     "metadata": {},
     "output_type": "execute_result"
    }
   ],
   "source": [
    "method_uri_protocol_pattern = r'\\\"(\\S+)\\s(\\S+)\\s*(\\S*)\\\"'\n",
    "method_uri_protocol = [re.search(method_uri_protocol_pattern, item).groups()\n",
    "               if re.search(method_uri_protocol_pattern, item)\n",
    "               else 'no match'\n",
    "              for item in sample_logs]\n",
    "method_uri_protocol"
   ]
  },
  {
   "cell_type": "code",
   "execution_count": 42,
   "metadata": {},
   "outputs": [
    {
     "data": {
      "text/plain": [
       "[u'200',\n",
       " u'304',\n",
       " u'304',\n",
       " u'304',\n",
       " u'304',\n",
       " u'200',\n",
       " u'304',\n",
       " u'200',\n",
       " u'200',\n",
       " u'200',\n",
       " u'200',\n",
       " u'200',\n",
       " u'200',\n",
       " u'304',\n",
       " u'200']"
      ]
     },
     "execution_count": 42,
     "metadata": {},
     "output_type": "execute_result"
    }
   ],
   "source": [
    "status_pattern = r'\\s(\\d{3})\\s'\n",
    "status = [re.search(status_pattern, item).group(1) for item in sample_logs]\n",
    "status"
   ]
  },
  {
   "cell_type": "code",
   "execution_count": 18,
   "metadata": {},
   "outputs": [
    {
     "name": "stdout",
     "output_type": "stream",
     "text": [
      "[u'1839', u'0', u'0', u'0', u'0', u'1713', u'0', u'1687', u'11853', u'9202', u'3635', u'1173', u'3047', u'0', u'10566']\n"
     ]
    }
   ],
   "source": [
    "content_size_pattern = r'\\s(\\d+)$'\n",
    "content_size = [re.search(content_size_pattern, item).group(1) for item in sample_logs]\n",
    "print(content_size)"
   ]
  },
  {
   "cell_type": "code",
   "execution_count": 20,
   "metadata": {},
   "outputs": [
    {
     "name": "stdout",
     "output_type": "stream",
     "text": [
      "+--------------------+--------------------+------+--------------------+--------+------+------------+\n",
      "|                host|           timestamp|method|            endpoint|protocol|status|content_size|\n",
      "+--------------------+--------------------+------+--------------------+--------+------+------------+\n",
      "|   in24.inetnebr.com|01/Aug/1995:00:00...|   GET|/shuttle/missions...|HTTP/1.0|   200|        1839|\n",
      "|     uplherc.upl.com|01/Aug/1995:00:00...|   GET|                   /|HTTP/1.0|   304|           0|\n",
      "|     uplherc.upl.com|01/Aug/1995:00:00...|   GET|/images/ksclogo-m...|HTTP/1.0|   304|           0|\n",
      "|     uplherc.upl.com|01/Aug/1995:00:00...|   GET|/images/MOSAIC-lo...|HTTP/1.0|   304|           0|\n",
      "|     uplherc.upl.com|01/Aug/1995:00:00...|   GET|/images/USA-logos...|HTTP/1.0|   304|           0|\n",
      "|ix-esc-ca2-07.ix....|01/Aug/1995:00:00...|   GET|/images/launch-lo...|HTTP/1.0|   200|        1713|\n",
      "|     uplherc.upl.com|01/Aug/1995:00:00...|   GET|/images/WORLD-log...|HTTP/1.0|   304|           0|\n",
      "|slppp6.intermind.net|01/Aug/1995:00:00...|   GET|/history/skylab/s...|HTTP/1.0|   200|        1687|\n",
      "|piweba4y.prodigy.com|01/Aug/1995:00:00...|   GET|/images/launchmed...|HTTP/1.0|   200|       11853|\n",
      "|slppp6.intermind.net|01/Aug/1995:00:00...|   GET|/history/skylab/s...|HTTP/1.0|   200|        9202|\n",
      "+--------------------+--------------------+------+--------------------+--------+------+------------+\n",
      "only showing top 10 rows\n",
      "\n",
      "(3461613, 7)\n"
     ]
    }
   ],
   "source": [
    "logs_df = base_df.select(regexp_extract('value', host_pattern, 1).alias('host'),\n",
    "                         regexp_extract('value', ts_pattern, 1).alias('timestamp'),\n",
    "                         regexp_extract('value', method_uri_protocol_pattern, 1).alias('method'),\n",
    "                         regexp_extract('value', method_uri_protocol_pattern, 2).alias('endpoint'),\n",
    "                         regexp_extract('value', method_uri_protocol_pattern, 3).alias('protocol'),\n",
    "                         regexp_extract('value', status_pattern, 1).cast('integer').alias('status'),\n",
    "                         regexp_extract('value', content_size_pattern, 1).cast('integer').alias('content_size'))\n",
    "logs_df.show(10, truncate=True)\n",
    "print((logs_df.count(), len(logs_df.columns)))"
   ]
  },
  {
   "cell_type": "code",
   "execution_count": 22,
   "metadata": {},
   "outputs": [
    {
     "name": "stdout",
     "output_type": "stream",
     "text": [
      "+-----------+\n",
      "|count(host)|\n",
      "+-----------+\n",
      "|     137933|\n",
      "+-----------+\n",
      "\n"
     ]
    }
   ],
   "source": [
    "logs_df.select(F.countDistinct(\"host\")).show()"
   ]
  },
  {
   "cell_type": "code",
   "execution_count": 25,
   "metadata": {},
   "outputs": [
    {
     "data": {
      "text/plain": [
       "20899"
      ]
     },
     "execution_count": 25,
     "metadata": {},
     "output_type": "execute_result"
    }
   ],
   "source": [
    "logs_df.filter(logs_df.status == 404).count()"
   ]
  },
  {
   "cell_type": "code",
   "execution_count": 35,
   "metadata": {},
   "outputs": [
    {
     "name": "stdout",
     "output_type": "stream",
     "text": [
      "+--------------------+-----+\n",
      "|            endpoint|count|\n",
      "+--------------------+-----+\n",
      "|/pub/winvn/readme...| 2004|\n",
      "|/pub/winvn/releas...| 1732|\n",
      "|/shuttle/missions...|  683|\n",
      "|/shuttle/missions...|  428|\n",
      "|/history/apollo/a...|  384|\n",
      "|/history/apollo/s...|  383|\n",
      "|/://spacelink.msf...|  381|\n",
      "|/images/crawlerwa...|  374|\n",
      "|/elv/DELTA/uncons...|  372|\n",
      "|/history/apollo/p...|  359|\n",
      "|/images/nasa-logo...|  319|\n",
      "|/shuttle/resource...|  314|\n",
      "|/history/apollo/a...|  304|\n",
      "|/shuttle/resource...|  263|\n",
      "|/shuttle/missions...|  190|\n",
      "|/shuttle/resource...|  170|\n",
      "|/shuttle/missions...|  158|\n",
      "|/history/apollo/i...|  150|\n",
      "| /images/lf-logo.gif|  143|\n",
      "|/history/apollo/p...|  140|\n",
      "+--------------------+-----+\n",
      "only showing top 20 rows\n",
      "\n"
     ]
    }
   ],
   "source": [
    "logs_df.filter(logs_df.status == 404).groupBy(\"endpoint\").count().sort('count', ascending=False).show()"
   ]
  },
  {
   "cell_type": "code",
   "execution_count": 38,
   "metadata": {},
   "outputs": [
    {
     "name": "stdout",
     "output_type": "stream",
     "text": [
      "+--------------------+-----+\n",
      "|           timestamp|count|\n",
      "+--------------------+-----+\n",
      "|04/Aug/1995:14:53...|    1|\n",
      "|06/Aug/1995:02:38...|    1|\n",
      "|07/Aug/1995:01:57...|    1|\n",
      "|07/Aug/1995:09:25...|    1|\n",
      "|07/Aug/1995:09:58...|    1|\n",
      "|07/Aug/1995:13:12...|    1|\n",
      "|08/Aug/1995:02:40...|    1|\n",
      "|08/Aug/1995:16:06...|    1|\n",
      "|09/Aug/1995:09:02...|    1|\n",
      "|09/Aug/1995:15:24...|    2|\n",
      "|09/Aug/1995:16:12...|    1|\n",
      "|10/Aug/1995:13:55...|    1|\n",
      "|11/Aug/1995:07:28...|    1|\n",
      "|11/Aug/1995:15:53...|    1|\n",
      "|12/Aug/1995:08:13...|    1|\n",
      "|13/Aug/1995:20:07...|    1|\n",
      "|14/Aug/1995:13:01...|    1|\n",
      "|14/Aug/1995:17:52...|    1|\n",
      "|15/Aug/1995:10:19...|    1|\n",
      "|15/Aug/1995:10:37...|    1|\n",
      "+--------------------+-----+\n",
      "only showing top 20 rows\n",
      "\n"
     ]
    }
   ],
   "source": [
    "logs_df.filter(logs_df.status == 404).groupBy(\"timestamp\").count().show()"
   ]
  },
  {
   "cell_type": "code",
   "execution_count": 39,
   "metadata": {},
   "outputs": [
    {
     "name": "stdout",
     "output_type": "stream",
     "text": [
      "+-----------------+\n",
      "|sum(content_size)|\n",
      "+-----------------+\n",
      "|      65524314915|\n",
      "+-----------------+\n",
      "\n"
     ]
    }
   ],
   "source": [
    "logs_df.groupBy().agg(F.sum('content_size')).show()"
   ]
  }
 ],
 "metadata": {
  "kernelspec": {
   "display_name": "Python 2",
   "language": "python",
   "name": "python2"
  },
  "language_info": {
   "codemirror_mode": {
    "name": "ipython",
    "version": 2
   },
   "file_extension": ".py",
   "mimetype": "text/x-python",
   "name": "python",
   "nbconvert_exporter": "python",
   "pygments_lexer": "ipython2",
   "version": "2.7.16"
  }
 },
 "nbformat": 4,
 "nbformat_minor": 2
}
